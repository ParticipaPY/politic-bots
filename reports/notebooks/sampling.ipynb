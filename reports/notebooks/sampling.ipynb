{
 "cells": [
  {
   "cell_type": "markdown",
   "metadata": {},
   "source": [
    "# Sampling"
   ]
  },
  {
   "cell_type": "code",
   "execution_count": 1,
   "metadata": {},
   "outputs": [],
   "source": [
    "%matplotlib inline\n",
    "\n",
    "import os\n",
    "import csv\n",
    "import json\n",
    "import matplotlib.pyplot as plt\n",
    "import seaborn as sns\n",
    "import numpy as np\n",
    "import pandas as pd\n",
    "from datetime import datetime\n",
    "\n",
    "os.chdir('../..')\n",
    "\n",
    "from src.utils.db_manager import *\n",
    "from src.utils.data_wrangler import *\n",
    "from src.analyzer.data_analyzer import *\n",
    "\n",
    "plt.style.use('seaborn')"
   ]
  },
  {
   "cell_type": "code",
   "execution_count": 276,
   "metadata": {},
   "outputs": [],
   "source": [
    "pd.set_option('display.max_colwidth', 280)"
   ]
  },
  {
   "cell_type": "markdown",
   "metadata": {},
   "source": [
    "## Internas 2017"
   ]
  },
  {
   "cell_type": "code",
   "execution_count": 2,
   "metadata": {},
   "outputs": [],
   "source": [
    "dbm = DBManager(collection='tweets', db_name='internas17')"
   ]
  },
  {
   "cell_type": "markdown",
   "metadata": {},
   "source": [
    "### Seleccionar tweets"
   ]
  },
  {
   "cell_type": "markdown",
   "metadata": {},
   "source": [
    "Abajo se seleccionan tweets que cumplan con las siguientes condiciones: son relevantes, relacionados a la ANR, que contengan al menos 1 hashtag y no RTs."
   ]
  },
  {
   "cell_type": "code",
   "execution_count": 280,
   "metadata": {},
   "outputs": [],
   "source": [
    "filter_query = {\n",
    "    'relevante': 1,\n",
    "    'flag.partido_politico.anr': {'$gt': 0}, \n",
    "    'tweet_obj.type': {'$ne': 'retweet'},\n",
    "    'tweet_obj.entities.hashtags.0': {'$exists': 1}\n",
    "}\n",
    "fields_to_retrieve = {\n",
    "    '_id': 0,\n",
    "    'tweet_obj.id_str': 1,\n",
    "    'tweet_py_datetime': 1,\n",
    "    'tweet_obj.user.screen_name': 1,\n",
    "    'tweet_obj.complete_text': 1,\n",
    "    'tweet_obj.type': 1,\n",
    "    'tweet_obj.retweet_count': 1,\n",
    "    'tweet_obj.favorite_count': 1,\n",
    "    'tweet_obj.entities.hashtags': 1\n",
    "}\n",
    "data = dbm.get_tweets_reduced(filter_query, fields_to_retrieve)\n",
    "tweets_df = pd.DataFrame(data)"
   ]
  },
  {
   "cell_type": "code",
   "execution_count": 281,
   "metadata": {},
   "outputs": [
    {
     "name": "stdout",
     "output_type": "stream",
     "text": [
      "Se seleccionaron 8,601 tweets\n"
     ]
    }
   ],
   "source": [
    "print('Se seleccionaron {:,} tweets'.format(tweets_df.shape[0]))"
   ]
  },
  {
   "cell_type": "markdown",
   "metadata": {},
   "source": [
    "#### Renombrar columnas"
   ]
  },
  {
   "cell_type": "code",
   "execution_count": 282,
   "metadata": {},
   "outputs": [],
   "source": [
    "tweets_df = tweets_df.rename(columns={\n",
    "    'tweet_obj_id_str': 'id', \n",
    "    'tweet_py_datetime': 'datetime',\n",
    "    'tweet_obj_user': 'screen_name',\n",
    "    'tweet_obj_complete_text': 'text',\n",
    "    'tweet_obj_type': 'type',\n",
    "    'tweet_obj_retweet_count': 'retweet_count',\n",
    "    'tweet_obj_favorite_count': 'favorite_count',\n",
    "    'tweet_obj_entities': 'hashtags'\n",
    "})"
   ]
  },
  {
   "cell_type": "markdown",
   "metadata": {},
   "source": [
    "#### Procesar columna screen_name"
   ]
  },
  {
   "cell_type": "code",
   "execution_count": 283,
   "metadata": {},
   "outputs": [],
   "source": [
    "tweets_df['screen_name'] = tweets_df['screen_name'].apply(lambda x: x['screen_name'])"
   ]
  },
  {
   "cell_type": "markdown",
   "metadata": {},
   "source": [
    "#### Procesar columna hashtags"
   ]
  },
  {
   "cell_type": "code",
   "execution_count": 284,
   "metadata": {},
   "outputs": [],
   "source": [
    "def process_hashtags(h_dict):\n",
    "    try:\n",
    "        hashtags_list = h_dict['hashtags']\n",
    "        hashtags = []\n",
    "        for hashtag in hashtags_list:\n",
    "            hashtags.append(hashtag['text'])\n",
    "        return ','.join(hashtags)\n",
    "    except:\n",
    "        print(h_dict)"
   ]
  },
  {
   "cell_type": "code",
   "execution_count": 285,
   "metadata": {},
   "outputs": [],
   "source": [
    "tweets_df['hashtags'] = tweets_df['hashtags'].apply(process_hashtags)"
   ]
  },
  {
   "cell_type": "markdown",
   "metadata": {},
   "source": [
    "#### Reordenar columnas"
   ]
  },
  {
   "cell_type": "code",
   "execution_count": 286,
   "metadata": {},
   "outputs": [],
   "source": [
    "new_order = [3,7,5,6,0,4,2,1]\n",
    "tweets_df = tweets_df[tweets_df.columns[new_order]]"
   ]
  },
  {
   "cell_type": "markdown",
   "metadata": {},
   "source": [
    "#### Desplegar muestra"
   ]
  },
  {
   "cell_type": "code",
   "execution_count": 287,
   "metadata": {},
   "outputs": [
    {
     "data": {
      "text/html": [
       "<div>\n",
       "<style scoped>\n",
       "    .dataframe tbody tr th:only-of-type {\n",
       "        vertical-align: middle;\n",
       "    }\n",
       "\n",
       "    .dataframe tbody tr th {\n",
       "        vertical-align: top;\n",
       "    }\n",
       "\n",
       "    .dataframe thead th {\n",
       "        text-align: right;\n",
       "    }\n",
       "</style>\n",
       "<table border=\"1\" class=\"dataframe\">\n",
       "  <thead>\n",
       "    <tr style=\"text-align: right;\">\n",
       "      <th></th>\n",
       "      <th>id</th>\n",
       "      <th>datetime</th>\n",
       "      <th>type</th>\n",
       "      <th>screen_name</th>\n",
       "      <th>text</th>\n",
       "      <th>retweet_count</th>\n",
       "      <th>favorite_count</th>\n",
       "      <th>hashtags</th>\n",
       "    </tr>\n",
       "  </thead>\n",
       "  <tbody>\n",
       "    <tr>\n",
       "      <th>0</th>\n",
       "      <td>937410405462368257</td>\n",
       "      <td>12/03/17 16:57:11</td>\n",
       "      <td>reply</td>\n",
       "      <td>RosaSanchezCru5</td>\n",
       "      <td>@caraocruzpy @SantiPenap #SantiPresidente #GanaLista2</td>\n",
       "      <td>0</td>\n",
       "      <td>1</td>\n",
       "      <td>SantiPresidente,GanaLista2</td>\n",
       "    </tr>\n",
       "    <tr>\n",
       "      <th>1</th>\n",
       "      <td>937406834473930752</td>\n",
       "      <td>12/03/17 16:43:00</td>\n",
       "      <td>reply</td>\n",
       "      <td>ceciliagales23</td>\n",
       "      <td>@SantiPenap LA DUPLA GANADORA Santi-Gneiting #JuntosHagamosMás</td>\n",
       "      <td>0</td>\n",
       "      <td>0</td>\n",
       "      <td>JuntosHagamosMás</td>\n",
       "    </tr>\n",
       "    <tr>\n",
       "      <th>2</th>\n",
       "      <td>937480342826553346</td>\n",
       "      <td>12/03/17 21:35:05</td>\n",
       "      <td>reply</td>\n",
       "      <td>Rocio_La_Negra</td>\n",
       "      <td>@caraocruzpy @jtorresromero @clariarias @marianpinedapy @Unicanal @SantiPenap A no aflojar #JuntosHacemosMas</td>\n",
       "      <td>0</td>\n",
       "      <td>0</td>\n",
       "      <td>JuntosHacemosMas</td>\n",
       "    </tr>\n",
       "    <tr>\n",
       "      <th>3</th>\n",
       "      <td>936562871902851072</td>\n",
       "      <td>12/01/17 08:49:23</td>\n",
       "      <td>reply</td>\n",
       "      <td>carlosave16</td>\n",
       "      <td>@SantiPenap #HonorColorado #SantiPresidente #GanaLista2</td>\n",
       "      <td>0</td>\n",
       "      <td>0</td>\n",
       "      <td>HonorColorado,SantiPresidente,GanaLista2</td>\n",
       "    </tr>\n",
       "    <tr>\n",
       "      <th>4</th>\n",
       "      <td>936634021349593089</td>\n",
       "      <td>12/01/17 13:32:07</td>\n",
       "      <td>original</td>\n",
       "      <td>PrensaSanti2018</td>\n",
       "      <td>#CaminandoJuntos @SantiPenap visitó esta mañana casa por casa a los vecinos del Barrio Tacumbú de Asunción.\\n📍¡Esta… https://t.co/BnD556vK3k</td>\n",
       "      <td>12</td>\n",
       "      <td>48</td>\n",
       "      <td>CaminandoJuntos</td>\n",
       "    </tr>\n",
       "  </tbody>\n",
       "</table>\n",
       "</div>"
      ],
      "text/plain": [
       "                   id           datetime      type      screen_name  \\\n",
       "0  937410405462368257  12/03/17 16:57:11     reply  RosaSanchezCru5   \n",
       "1  937406834473930752  12/03/17 16:43:00     reply   ceciliagales23   \n",
       "2  937480342826553346  12/03/17 21:35:05     reply   Rocio_La_Negra   \n",
       "3  936562871902851072  12/01/17 08:49:23     reply      carlosave16   \n",
       "4  936634021349593089  12/01/17 13:32:07  original  PrensaSanti2018   \n",
       "\n",
       "                                                                                                                                           text  \\\n",
       "0                                                                                         @caraocruzpy @SantiPenap #SantiPresidente #GanaLista2   \n",
       "1                                                                                @SantiPenap LA DUPLA GANADORA Santi-Gneiting #JuntosHagamosMás   \n",
       "2                                  @caraocruzpy @jtorresromero @clariarias @marianpinedapy @Unicanal @SantiPenap A no aflojar #JuntosHacemosMas   \n",
       "3                                                                                       @SantiPenap #HonorColorado #SantiPresidente #GanaLista2   \n",
       "4  #CaminandoJuntos @SantiPenap visitó esta mañana casa por casa a los vecinos del Barrio Tacumbú de Asunción.\\n📍¡Esta… https://t.co/BnD556vK3k   \n",
       "\n",
       "   retweet_count  favorite_count                                  hashtags  \n",
       "0              0               1                SantiPresidente,GanaLista2  \n",
       "1              0               0                          JuntosHagamosMás  \n",
       "2              0               0                          JuntosHacemosMas  \n",
       "3              0               0  HonorColorado,SantiPresidente,GanaLista2  \n",
       "4             12              48                           CaminandoJuntos  "
      ]
     },
     "execution_count": 287,
     "metadata": {},
     "output_type": "execute_result"
    }
   ],
   "source": [
    "tweets_df.head()"
   ]
  },
  {
   "cell_type": "markdown",
   "metadata": {},
   "source": [
    "### Filtrar tweets"
   ]
  },
  {
   "cell_type": "markdown",
   "metadata": {},
   "source": [
    "Filtrar tweets cuyos hashtags no correspondan a los hashtagas de campaña"
   ]
  },
  {
   "cell_type": "code",
   "execution_count": 289,
   "metadata": {},
   "outputs": [],
   "source": [
    "import unicodedata\n",
    "###\n",
    "# Remove non-ascii characters and put hashtag to lower case\n",
    "###\n",
    "def process_hashtag(hashtag):\n",
    "    hashtag = unicodedata.normalize('NFD', hashtag).encode('ascii', 'ignore').decode()\n",
    "    return hashtag.lower()"
   ]
  },
  {
   "cell_type": "code",
   "execution_count": 290,
   "metadata": {},
   "outputs": [],
   "source": [
    "campaign_hashtags = pd.read_csv('data/hashtags_internas.csv')\n",
    "campaign_hashtags['hashtag_campaign'] = campaign_hashtags['hashtag_campaign'].apply(process_hashtag)\n",
    "hashtags_list = list(campaign_hashtags['hashtag_campaign'])"
   ]
  },
  {
   "cell_type": "code",
   "execution_count": 291,
   "metadata": {},
   "outputs": [],
   "source": [
    "def contain_campaign_hashtags(hashtags_str):\n",
    "    hashtags = hashtags_str.split(',')\n",
    "    found_campaign_ht = False\n",
    "    for hashtag in hashtags:\n",
    "        hashtag = process_hashtag(hashtag)\n",
    "        if hashtag in hashtags_list:\n",
    "            found_campaign_ht = True\n",
    "            break\n",
    "    return found_campaign_ht"
   ]
  },
  {
   "cell_type": "markdown",
   "metadata": {},
   "source": [
    "Crear una columna auxiliar para indicar los tweets que contienen los hashtags de campaña"
   ]
  },
  {
   "cell_type": "code",
   "execution_count": 292,
   "metadata": {},
   "outputs": [],
   "source": [
    "tweets_df['contain_campaign_hashtags'] = tweets_df['hashtags'].apply(contain_campaign_hashtags)"
   ]
  },
  {
   "cell_type": "code",
   "execution_count": 293,
   "metadata": {},
   "outputs": [],
   "source": [
    "tweets_df = tweets_df[tweets_df['contain_campaign_hashtags']==True]"
   ]
  },
  {
   "cell_type": "markdown",
   "metadata": {},
   "source": [
    "Eliminar columna auxiliar"
   ]
  },
  {
   "cell_type": "code",
   "execution_count": 294,
   "metadata": {},
   "outputs": [],
   "source": [
    "tweets_df = tweets_df.drop(['contain_campaign_hashtags'], axis=1)"
   ]
  },
  {
   "cell_type": "code",
   "execution_count": 295,
   "metadata": {},
   "outputs": [
    {
     "data": {
      "text/plain": [
       "(3036, 8)"
      ]
     },
     "execution_count": 295,
     "metadata": {},
     "output_type": "execute_result"
    }
   ],
   "source": [
    "tweets_df.shape"
   ]
  },
  {
   "cell_type": "markdown",
   "metadata": {},
   "source": [
    "### Elegir muestra aleatoria"
   ]
  },
  {
   "cell_type": "markdown",
   "metadata": {},
   "source": [
    "El tamaño de la muestra fue seleccionado considerando un marjen de error de 5%, un nivel de confianza de 95%, y la cantidad de filas en `tweets_df`. Para el cálculo, se utilizó la siguiente [calculadora](https://www.surveymonkey.com/mp/sample-size-calculator/)."
   ]
  },
  {
   "cell_type": "code",
   "execution_count": 296,
   "metadata": {},
   "outputs": [],
   "source": [
    "SAMPLE_SIZE=368"
   ]
  },
  {
   "cell_type": "code",
   "execution_count": 270,
   "metadata": {},
   "outputs": [],
   "source": [
    "try:\n",
    "    annotated_sample = pd.read_csv('datasets/dataframes_internas/tweets_anotados_internas.csv', dtype={'id': object})\n",
    "    # remove rows with na ids\n",
    "    annotated_sample = annotated_sample[annotated_sample['id'].notna()]\n",
    "except:\n",
    "    annotated_sample = None"
   ]
  },
  {
   "cell_type": "code",
   "execution_count": 301,
   "metadata": {},
   "outputs": [],
   "source": [
    "if annotated_sample is None:\n",
    "    sample_df = tweets_df.sample(n=SAMPLE_SIZE, random_state=1)\n",
    "else:\n",
    "    aux_tweets_df = tweets_df[~tweets_df['id'].isin(annotated_sample['id'])]\n",
    "    sample_df = tweets_df.sample(n=(SAMPLE_SIZE-annotated_sample.shape[0]), random_state=1)"
   ]
  },
  {
   "cell_type": "code",
   "execution_count": 306,
   "metadata": {},
   "outputs": [],
   "source": [
    "sample_df = sample_df.drop(['hashtags'], axis=1)"
   ]
  },
  {
   "cell_type": "code",
   "execution_count": 307,
   "metadata": {},
   "outputs": [
    {
     "name": "stdout",
     "output_type": "stream",
     "text": [
      "Tamaño sample: 203 registros\n"
     ]
    }
   ],
   "source": [
    "print('Tamaño sample: {} registros'.format(sample_df.shape[0]))"
   ]
  },
  {
   "cell_type": "code",
   "execution_count": 308,
   "metadata": {},
   "outputs": [
    {
     "data": {
      "text/html": [
       "<div>\n",
       "<style scoped>\n",
       "    .dataframe tbody tr th:only-of-type {\n",
       "        vertical-align: middle;\n",
       "    }\n",
       "\n",
       "    .dataframe tbody tr th {\n",
       "        vertical-align: top;\n",
       "    }\n",
       "\n",
       "    .dataframe thead th {\n",
       "        text-align: right;\n",
       "    }\n",
       "</style>\n",
       "<table border=\"1\" class=\"dataframe\">\n",
       "  <thead>\n",
       "    <tr style=\"text-align: right;\">\n",
       "      <th></th>\n",
       "      <th>id</th>\n",
       "      <th>datetime</th>\n",
       "      <th>type</th>\n",
       "      <th>screen_name</th>\n",
       "      <th>text</th>\n",
       "      <th>retweet_count</th>\n",
       "      <th>favorite_count</th>\n",
       "    </tr>\n",
       "  </thead>\n",
       "  <tbody>\n",
       "    <tr>\n",
       "      <th>7</th>\n",
       "      <td>937349483406512129</td>\n",
       "      <td>12/03/17 12:55:06</td>\n",
       "      <td>original</td>\n",
       "      <td>victorbogadopy</td>\n",
       "      <td>Agradezco a Eduardo Palacios vicepresidente de la Seccional 11 y a todo el equipo de la #Lista2 #SantiPresidente… https://t.co/PmQHwsUox2</td>\n",
       "      <td>2</td>\n",
       "      <td>8</td>\n",
       "    </tr>\n",
       "    <tr>\n",
       "      <th>1929</th>\n",
       "      <td>941026222515146753</td>\n",
       "      <td>12/13/17 16:25:09</td>\n",
       "      <td>original</td>\n",
       "      <td>PraxedesReynoso</td>\n",
       "      <td>El 17 de diciembre votá por un #ParaguayDeLaGente! con @MaritoAbdo\\n#VotáLista3</td>\n",
       "      <td>0</td>\n",
       "      <td>0</td>\n",
       "    </tr>\n",
       "    <tr>\n",
       "      <th>127</th>\n",
       "      <td>937144015258087426</td>\n",
       "      <td>12/02/17 23:18:39</td>\n",
       "      <td>reply</td>\n",
       "      <td>MilciadesJoseG</td>\n",
       "      <td>@SantiPenap #SantiPresidente #EstoyConSanti #JuntosHagamosMás</td>\n",
       "      <td>0</td>\n",
       "      <td>0</td>\n",
       "    </tr>\n",
       "    <tr>\n",
       "      <th>1374</th>\n",
       "      <td>937992603768971264</td>\n",
       "      <td>12/05/17 07:30:38</td>\n",
       "      <td>reply</td>\n",
       "      <td>sebastiansosa80</td>\n",
       "      <td>@SantiPenap 12 Días para la victoria!  #SantiPeñaPresidente #JuntosHagamosMás</td>\n",
       "      <td>0</td>\n",
       "      <td>0</td>\n",
       "    </tr>\n",
       "    <tr>\n",
       "      <th>382</th>\n",
       "      <td>938699956852084736</td>\n",
       "      <td>12/07/17 06:21:24</td>\n",
       "      <td>original</td>\n",
       "      <td>PrensaSanti2018</td>\n",
       "      <td>📺 @SantiPenap estará hoy en @CadaDiaSNT con @yolandapark1 y @TrocheCarlos por el @sntcanal9 \\n#SigamosConversando https://t.co/3fVTd7WCLl</td>\n",
       "      <td>13</td>\n",
       "      <td>39</td>\n",
       "    </tr>\n",
       "  </tbody>\n",
       "</table>\n",
       "</div>"
      ],
      "text/plain": [
       "                      id           datetime      type      screen_name  \\\n",
       "7     937349483406512129  12/03/17 12:55:06  original   victorbogadopy   \n",
       "1929  941026222515146753  12/13/17 16:25:09  original  PraxedesReynoso   \n",
       "127   937144015258087426  12/02/17 23:18:39     reply   MilciadesJoseG   \n",
       "1374  937992603768971264  12/05/17 07:30:38     reply  sebastiansosa80   \n",
       "382   938699956852084736  12/07/17 06:21:24  original  PrensaSanti2018   \n",
       "\n",
       "                                                                                                                                           text  \\\n",
       "7     Agradezco a Eduardo Palacios vicepresidente de la Seccional 11 y a todo el equipo de la #Lista2 #SantiPresidente… https://t.co/PmQHwsUox2   \n",
       "1929                                                            El 17 de diciembre votá por un #ParaguayDeLaGente! con @MaritoAbdo\\n#VotáLista3   \n",
       "127                                                                               @SantiPenap #SantiPresidente #EstoyConSanti #JuntosHagamosMás   \n",
       "1374                                                              @SantiPenap 12 Días para la victoria!  #SantiPeñaPresidente #JuntosHagamosMás   \n",
       "382   📺 @SantiPenap estará hoy en @CadaDiaSNT con @yolandapark1 y @TrocheCarlos por el @sntcanal9 \\n#SigamosConversando https://t.co/3fVTd7WCLl   \n",
       "\n",
       "      retweet_count  favorite_count  \n",
       "7                 2               8  \n",
       "1929              0               0  \n",
       "127               0               0  \n",
       "1374              0               0  \n",
       "382              13              39  "
      ]
     },
     "execution_count": 308,
     "metadata": {},
     "output_type": "execute_result"
    }
   ],
   "source": [
    "sample_df.head()"
   ]
  },
  {
   "cell_type": "markdown",
   "metadata": {},
   "source": [
    "### Exportar muestra"
   ]
  },
  {
   "cell_type": "code",
   "execution_count": 309,
   "metadata": {},
   "outputs": [],
   "source": [
    "if annotated_sample is None:\n",
    "    sample_df.to_csv('datasets/dataframes_internas/sample_internas.csv', index=False)\n",
    "else:\n",
    "    sample_df.to_csv('datasets/dataframes_internas/sample_internas_{}.csv'.format(sample_df.shape[0]), index=False)"
   ]
  },
  {
   "cell_type": "markdown",
   "metadata": {},
   "source": [
    "---"
   ]
  },
  {
   "cell_type": "markdown",
   "metadata": {},
   "source": [
    "## Generales 2018"
   ]
  },
  {
   "cell_type": "code",
   "execution_count": 310,
   "metadata": {},
   "outputs": [],
   "source": [
    "dbm = DBManager(collection='tweets', db_name='generales2018')"
   ]
  },
  {
   "cell_type": "markdown",
   "metadata": {},
   "source": [
    "### Seleccionar tweets"
   ]
  },
  {
   "cell_type": "markdown",
   "metadata": {},
   "source": [
    "Abajo se seleccionan tweets que cumplan con las siguientes condiciones: son relevantes, que contengan al menos 1 hashtag y no RTs."
   ]
  },
  {
   "cell_type": "code",
   "execution_count": 333,
   "metadata": {},
   "outputs": [],
   "source": [
    "filter_query = {\n",
    "    'relevante': 1,\n",
    "    'tweet_obj.type': {'$ne': 'retweet'},\n",
    "    'tweet_obj.entities.hashtags.0': {'$exists': 1}\n",
    "}\n",
    "fields_to_retrieve = {\n",
    "    '_id': 0,\n",
    "    'tweet_obj.id_str': 1,\n",
    "    'tweet_py_date': 1,\n",
    "    'tweet_obj.user.screen_name': 1,\n",
    "    'tweet_obj.complete_text': 1,\n",
    "    'tweet_obj.type': 1,\n",
    "    'tweet_obj.entities.hashtags': 1\n",
    "}\n",
    "data = dbm.get_tweets_reduced(filter_query, fields_to_retrieve)\n",
    "tweets_df = pd.DataFrame(data)"
   ]
  },
  {
   "cell_type": "code",
   "execution_count": 321,
   "metadata": {},
   "outputs": [
    {
     "name": "stdout",
     "output_type": "stream",
     "text": [
      "Se seleccionaron 13,192 tweets\n"
     ]
    }
   ],
   "source": [
    "print('Se seleccionaron {:,} tweets'.format(tweets_df.shape[0]))"
   ]
  },
  {
   "cell_type": "markdown",
   "metadata": {},
   "source": [
    "#### Renombrar columnas"
   ]
  },
  {
   "cell_type": "code",
   "execution_count": 335,
   "metadata": {},
   "outputs": [],
   "source": [
    "tweets_df = tweets_df.rename(columns={\n",
    "    'tweet_obj_id_str': 'id', \n",
    "    'tweet_py_date': 'date',\n",
    "    'tweet_obj_user': 'screen_name',\n",
    "    'tweet_obj_complete_text': 'text',\n",
    "    'tweet_obj_type': 'type',\n",
    "    'tweet_obj_entities': 'hashtags'\n",
    "})"
   ]
  },
  {
   "cell_type": "markdown",
   "metadata": {},
   "source": [
    "#### Procesar columna screen_name"
   ]
  },
  {
   "cell_type": "code",
   "execution_count": 337,
   "metadata": {},
   "outputs": [],
   "source": [
    "tweets_df['screen_name'] = tweets_df['screen_name'].apply(lambda x: x['screen_name'])"
   ]
  },
  {
   "cell_type": "markdown",
   "metadata": {},
   "source": [
    "#### Procesar columna hashtags"
   ]
  },
  {
   "cell_type": "code",
   "execution_count": 338,
   "metadata": {},
   "outputs": [],
   "source": [
    "def process_hashtags(h_dict):\n",
    "    try:\n",
    "        hashtags_list = h_dict['hashtags']\n",
    "        hashtags = []\n",
    "        for hashtag in hashtags_list:\n",
    "            hashtags.append(hashtag['text'])\n",
    "        return ','.join(hashtags)\n",
    "    except:\n",
    "        print(h_dict)"
   ]
  },
  {
   "cell_type": "code",
   "execution_count": 339,
   "metadata": {},
   "outputs": [],
   "source": [
    "tweets_df['hashtags'] = tweets_df['hashtags'].apply(process_hashtags)"
   ]
  },
  {
   "cell_type": "markdown",
   "metadata": {},
   "source": [
    "#### Reordenar columnas"
   ]
  },
  {
   "cell_type": "code",
   "execution_count": 341,
   "metadata": {},
   "outputs": [],
   "source": [
    "new_order = [2,5,3,4,0,1]\n",
    "tweets_df = tweets_df[tweets_df.columns[new_order]]"
   ]
  },
  {
   "cell_type": "markdown",
   "metadata": {},
   "source": [
    "#### Desplegar muestra"
   ]
  },
  {
   "cell_type": "code",
   "execution_count": 342,
   "metadata": {},
   "outputs": [
    {
     "data": {
      "text/html": [
       "<div>\n",
       "<style scoped>\n",
       "    .dataframe tbody tr th:only-of-type {\n",
       "        vertical-align: middle;\n",
       "    }\n",
       "\n",
       "    .dataframe tbody tr th {\n",
       "        vertical-align: top;\n",
       "    }\n",
       "\n",
       "    .dataframe thead th {\n",
       "        text-align: right;\n",
       "    }\n",
       "</style>\n",
       "<table border=\"1\" class=\"dataframe\">\n",
       "  <thead>\n",
       "    <tr style=\"text-align: right;\">\n",
       "      <th></th>\n",
       "      <th>id</th>\n",
       "      <th>date</th>\n",
       "      <th>type</th>\n",
       "      <th>screen_name</th>\n",
       "      <th>text</th>\n",
       "      <th>hashtags</th>\n",
       "    </tr>\n",
       "  </thead>\n",
       "  <tbody>\n",
       "    <tr>\n",
       "      <th>0</th>\n",
       "      <td>977568574146523144</td>\n",
       "      <td>03/24/18</td>\n",
       "      <td>original</td>\n",
       "      <td>leitorubin</td>\n",
       "      <td>¡Ya nos encontramos en el estadio Cerrito en Coronel Oviedo! Con la #Lista5 de la @AlianzaGanar, los ovetenses saben que #ElCambioEsPosible 🇵🇾 https://t.co/tehKjxBhuF</td>\n",
       "      <td>Lista5,ElCambioEsPosible</td>\n",
       "    </tr>\n",
       "    <tr>\n",
       "      <th>1</th>\n",
       "      <td>977557663469973504</td>\n",
       "      <td>03/24/18</td>\n",
       "      <td>original</td>\n",
       "      <td>SantacruzFISA</td>\n",
       "      <td>#Marito no quiere debatir con los jóvenes, @EfrainAlegre sí propone educación pública de calidad, 22 de Abril, votá LISTA5⃣🖐 @AlianzaGanar https://t.co/ORRBZF4rZe</td>\n",
       "      <td>Marito</td>\n",
       "    </tr>\n",
       "    <tr>\n",
       "      <th>2</th>\n",
       "      <td>977363949921406976</td>\n",
       "      <td>03/23/18</td>\n",
       "      <td>quote</td>\n",
       "      <td>info_paraguay</td>\n",
       "      <td>@FrenteGuasuPY @lugo_py @InfoLugo18 @SixtoPereira @HugoRicher_ @carlosfilizzola @esperanza_py @luipaciello40 @mercedescanese #Lista40 #FrenteGuasu #ElEquipoDelPueblo @EfrainAlegre @AlianzaGanar #Lista5 https://t.co/yLi3qdiyb9</td>\n",
       "      <td>Lista40,FrenteGuasu,ElEquipoDelPueblo,Lista5</td>\n",
       "    </tr>\n",
       "    <tr>\n",
       "      <th>3</th>\n",
       "      <td>977288363513466880</td>\n",
       "      <td>03/23/18</td>\n",
       "      <td>original</td>\n",
       "      <td>fran_rat</td>\n",
       "      <td>Yo elegí al candidato ganador con propuestas inclusivas para  el pueblo y por sobre  todo para la juventud 💪💪💪👏 @EfrainAlegre\\n@AlianzaGanar #Lista5\\nhttps://t.co/kkEJfnNvaJ</td>\n",
       "      <td>Lista5</td>\n",
       "    </tr>\n",
       "    <tr>\n",
       "      <th>4</th>\n",
       "      <td>977201300453588992</td>\n",
       "      <td>03/23/18</td>\n",
       "      <td>original</td>\n",
       "      <td>pdpprogresista</td>\n",
       "      <td>#Autoblindaje @Horacio_Cartes @JuanAfara @AllianaPedro @MaritoAbdo @ANRParaguay @ANRParaguay @PLRAOficial @bancada_b @EfrainAlegre @leitorubin @AlianzaGanar @patriaquerida @DipAvanzaPais @FrenteGuasuPY @avancemos_pais @ABCCardinal @UHPolitica @5diasPY @AQEpy https://t.co/6JrT...</td>\n",
       "      <td>Autoblindaje</td>\n",
       "    </tr>\n",
       "  </tbody>\n",
       "</table>\n",
       "</div>"
      ],
      "text/plain": [
       "                   id      date      type     screen_name  \\\n",
       "0  977568574146523144  03/24/18  original      leitorubin   \n",
       "1  977557663469973504  03/24/18  original   SantacruzFISA   \n",
       "2  977363949921406976  03/23/18     quote   info_paraguay   \n",
       "3  977288363513466880  03/23/18  original        fran_rat   \n",
       "4  977201300453588992  03/23/18  original  pdpprogresista   \n",
       "\n",
       "                                                                                                                                                                                                                                                                                      text  \\\n",
       "0                                                                                                                   ¡Ya nos encontramos en el estadio Cerrito en Coronel Oviedo! Con la #Lista5 de la @AlianzaGanar, los ovetenses saben que #ElCambioEsPosible 🇵🇾 https://t.co/tehKjxBhuF   \n",
       "1                                                                                                                       #Marito no quiere debatir con los jóvenes, @EfrainAlegre sí propone educación pública de calidad, 22 de Abril, votá LISTA5⃣🖐 @AlianzaGanar https://t.co/ORRBZF4rZe   \n",
       "2                                                        @FrenteGuasuPY @lugo_py @InfoLugo18 @SixtoPereira @HugoRicher_ @carlosfilizzola @esperanza_py @luipaciello40 @mercedescanese #Lista40 #FrenteGuasu #ElEquipoDelPueblo @EfrainAlegre @AlianzaGanar #Lista5 https://t.co/yLi3qdiyb9   \n",
       "3                                                                                                            Yo elegí al candidato ganador con propuestas inclusivas para  el pueblo y por sobre  todo para la juventud 💪💪💪👏 @EfrainAlegre\\n@AlianzaGanar #Lista5\\nhttps://t.co/kkEJfnNvaJ   \n",
       "4  #Autoblindaje @Horacio_Cartes @JuanAfara @AllianaPedro @MaritoAbdo @ANRParaguay @ANRParaguay @PLRAOficial @bancada_b @EfrainAlegre @leitorubin @AlianzaGanar @patriaquerida @DipAvanzaPais @FrenteGuasuPY @avancemos_pais @ABCCardinal @UHPolitica @5diasPY @AQEpy https://t.co/6JrT...   \n",
       "\n",
       "                                       hashtags  \n",
       "0                      Lista5,ElCambioEsPosible  \n",
       "1                                        Marito  \n",
       "2  Lista40,FrenteGuasu,ElEquipoDelPueblo,Lista5  \n",
       "3                                        Lista5  \n",
       "4                                  Autoblindaje  "
      ]
     },
     "execution_count": 342,
     "metadata": {},
     "output_type": "execute_result"
    }
   ],
   "source": [
    "tweets_df.head()"
   ]
  },
  {
   "cell_type": "markdown",
   "metadata": {},
   "source": [
    "### Filtrar tweets"
   ]
  },
  {
   "cell_type": "markdown",
   "metadata": {},
   "source": [
    "Filtrar tweets cuyos hashtags no correspondan a los hashtags de campaña"
   ]
  },
  {
   "cell_type": "code",
   "execution_count": 343,
   "metadata": {},
   "outputs": [],
   "source": [
    "import unicodedata\n",
    "###\n",
    "# Remove non-ascii characters and put hashtag to lower case\n",
    "###\n",
    "def process_hashtag(hashtag):\n",
    "    hashtag = unicodedata.normalize('NFD', hashtag).encode('ascii', 'ignore').decode()\n",
    "    return hashtag.lower()"
   ]
  },
  {
   "cell_type": "code",
   "execution_count": 345,
   "metadata": {},
   "outputs": [],
   "source": [
    "campaign_hashtags = pd.read_csv('data/hashtags_generales.csv')\n",
    "campaign_hashtags['hashtag_campaign'] = campaign_hashtags['hashtag_campaign'].apply(process_hashtag)\n",
    "hashtags_list = list(campaign_hashtags['hashtag_campaign'])"
   ]
  },
  {
   "cell_type": "code",
   "execution_count": 344,
   "metadata": {},
   "outputs": [],
   "source": [
    "def contain_campaign_hashtags(hashtags_str):\n",
    "    hashtags = hashtags_str.split(',')\n",
    "    found_campaign_ht = False\n",
    "    for hashtag in hashtags:\n",
    "        hashtag = process_hashtag(hashtag)\n",
    "        if hashtag in hashtags_list:\n",
    "            found_campaign_ht = True\n",
    "            break\n",
    "    return found_campaign_ht"
   ]
  },
  {
   "cell_type": "markdown",
   "metadata": {},
   "source": [
    "Crear una columna auxiliar para indicar los tweets que contienen los hashtags de campaña"
   ]
  },
  {
   "cell_type": "code",
   "execution_count": 346,
   "metadata": {},
   "outputs": [],
   "source": [
    "tweets_df['contain_campaign_hashtags'] = tweets_df['hashtags'].apply(contain_campaign_hashtags)"
   ]
  },
  {
   "cell_type": "code",
   "execution_count": 347,
   "metadata": {},
   "outputs": [],
   "source": [
    "tweets_df = tweets_df[tweets_df['contain_campaign_hashtags']==True]"
   ]
  },
  {
   "cell_type": "markdown",
   "metadata": {},
   "source": [
    "Eliminar columna auxiliar"
   ]
  },
  {
   "cell_type": "code",
   "execution_count": 348,
   "metadata": {},
   "outputs": [],
   "source": [
    "tweets_df = tweets_df.drop(['contain_campaign_hashtags'], axis=1)"
   ]
  },
  {
   "cell_type": "code",
   "execution_count": 349,
   "metadata": {},
   "outputs": [
    {
     "data": {
      "text/plain": [
       "(6332, 6)"
      ]
     },
     "execution_count": 349,
     "metadata": {},
     "output_type": "execute_result"
    }
   ],
   "source": [
    "tweets_df.shape"
   ]
  },
  {
   "cell_type": "markdown",
   "metadata": {},
   "source": [
    "### Elegir muestra aleatoria"
   ]
  },
  {
   "cell_type": "markdown",
   "metadata": {},
   "source": [
    "El tamaño de la muestra fue seleccionado considerando un marjen de error de 5%, un nivel de confianza de 95%, y la cantidad de filas en `tweets_df`. Para el cálculo, se utilizó la siguiente [calculadora](https://www.surveymonkey.com/mp/sample-size-calculator/)."
   ]
  },
  {
   "cell_type": "code",
   "execution_count": 350,
   "metadata": {},
   "outputs": [],
   "source": [
    "SAMPLE_SIZE=374"
   ]
  },
  {
   "cell_type": "code",
   "execution_count": 355,
   "metadata": {},
   "outputs": [],
   "source": [
    "try:\n",
    "    annotated_sample = pd.read_csv('datasets/dataframes_generales/tweets_anotados_generales.csv', \n",
    "                                   dtype={'id': object})\n",
    "    # remove rows with na ids\n",
    "    annotated_sample = annotated_sample[annotated_sample['id'].notna()]\n",
    "except:\n",
    "    annotated_sample = None"
   ]
  },
  {
   "cell_type": "code",
   "execution_count": 356,
   "metadata": {},
   "outputs": [],
   "source": [
    "if annotated_sample is None:\n",
    "    sample_df = tweets_df.sample(n=SAMPLE_SIZE, random_state=1)\n",
    "else:\n",
    "    aux_tweets_df = tweets_df[~tweets_df['id'].isin(annotated_sample['id'])]\n",
    "    sample_df = tweets_df.sample(n=(SAMPLE_SIZE-annotated_sample.shape[0]), random_state=1)"
   ]
  },
  {
   "cell_type": "code",
   "execution_count": 357,
   "metadata": {},
   "outputs": [],
   "source": [
    "sample_df = sample_df.drop(['hashtags'], axis=1)"
   ]
  },
  {
   "cell_type": "code",
   "execution_count": 358,
   "metadata": {},
   "outputs": [
    {
     "name": "stdout",
     "output_type": "stream",
     "text": [
      "Tamaño sample: 171 registros\n"
     ]
    }
   ],
   "source": [
    "print('Tamaño sample: {} registros'.format(sample_df.shape[0]))"
   ]
  },
  {
   "cell_type": "code",
   "execution_count": 359,
   "metadata": {},
   "outputs": [
    {
     "data": {
      "text/html": [
       "<div>\n",
       "<style scoped>\n",
       "    .dataframe tbody tr th:only-of-type {\n",
       "        vertical-align: middle;\n",
       "    }\n",
       "\n",
       "    .dataframe tbody tr th {\n",
       "        vertical-align: top;\n",
       "    }\n",
       "\n",
       "    .dataframe thead th {\n",
       "        text-align: right;\n",
       "    }\n",
       "</style>\n",
       "<table border=\"1\" class=\"dataframe\">\n",
       "  <thead>\n",
       "    <tr style=\"text-align: right;\">\n",
       "      <th></th>\n",
       "      <th>id</th>\n",
       "      <th>date</th>\n",
       "      <th>type</th>\n",
       "      <th>screen_name</th>\n",
       "      <th>text</th>\n",
       "    </tr>\n",
       "  </thead>\n",
       "  <tbody>\n",
       "    <tr>\n",
       "      <th>1883</th>\n",
       "      <td>976851277413003266</td>\n",
       "      <td>03/22/18</td>\n",
       "      <td>original</td>\n",
       "      <td>juliethaguirr_M</td>\n",
       "      <td>#ParaguaySeMueve #MaritoDeLaGente .@5diasPY .@paraguaycom .@Unicanal .@RadioLibrePy .@Py2018 .@ArnoldoWiens .@MarioVarelaGob .@SenadoresPy .@julioullon https://t.co/FOk61Urotg</td>\n",
       "    </tr>\n",
       "    <tr>\n",
       "      <th>11654</th>\n",
       "      <td>987832841559044096</td>\n",
       "      <td>04/21/18</td>\n",
       "      <td>original</td>\n",
       "      <td>HernanPereyraOk</td>\n",
       "      <td>#MaritoDeLaGente #El22GanaMarito  #ParaguaySeMueve   \\nhttps://t.co/cj20kGZMYb vía @YouTube</td>\n",
       "    </tr>\n",
       "    <tr>\n",
       "      <th>5184</th>\n",
       "      <td>984084377436082184</td>\n",
       "      <td>04/11/18</td>\n",
       "      <td>original</td>\n",
       "      <td>RkMhf2SJBrN5N7o</td>\n",
       "      <td>★ #ParaguaySeMueve con @MaritoAbdo★ @HernandariasPy @ANRParaguay @AllianaPedro @Carmen2016A @LuisCastiglioni @zacariasirun @ANR_Redes★\\nMasivo apoyo a la Lista 1 en acto de cierre de campaña en Asunción https://t.co/ccekI502Ce</td>\n",
       "    </tr>\n",
       "    <tr>\n",
       "      <th>241</th>\n",
       "      <td>977752274717040641</td>\n",
       "      <td>03/24/18</td>\n",
       "      <td>original</td>\n",
       "      <td>elciraram0s</td>\n",
       "      <td>@Maritoabdo con las mujeres guerreras de Paraguay #ParaguaySeMueve #MaritoDeLaGente .@CardinalAM .@News_CC .@rnpy920am .@ParaguayTVHD .@ParaguayTVHD .@780AM https://t.co/4pSlUoEgAW</td>\n",
       "    </tr>\n",
       "    <tr>\n",
       "      <th>1840</th>\n",
       "      <td>976926110540881921</td>\n",
       "      <td>03/22/18</td>\n",
       "      <td>original</td>\n",
       "      <td>EDITHVILLA3</td>\n",
       "      <td>#ParaguaySeMueve con #MaritoDeLaGente https://t.co/Kk2C7G9xmf</td>\n",
       "    </tr>\n",
       "  </tbody>\n",
       "</table>\n",
       "</div>"
      ],
      "text/plain": [
       "                       id      date      type      screen_name  \\\n",
       "1883   976851277413003266  03/22/18  original  juliethaguirr_M   \n",
       "11654  987832841559044096  04/21/18  original  HernanPereyraOk   \n",
       "5184   984084377436082184  04/11/18  original  RkMhf2SJBrN5N7o   \n",
       "241    977752274717040641  03/24/18  original      elciraram0s   \n",
       "1840   976926110540881921  03/22/18  original      EDITHVILLA3   \n",
       "\n",
       "                                                                                                                                                                                                                                     text  \n",
       "1883                                                      #ParaguaySeMueve #MaritoDeLaGente .@5diasPY .@paraguaycom .@Unicanal .@RadioLibrePy .@Py2018 .@ArnoldoWiens .@MarioVarelaGob .@SenadoresPy .@julioullon https://t.co/FOk61Urotg  \n",
       "11654                                                                                                                                         #MaritoDeLaGente #El22GanaMarito  #ParaguaySeMueve   \\nhttps://t.co/cj20kGZMYb vía @YouTube  \n",
       "5184   ★ #ParaguaySeMueve con @MaritoAbdo★ @HernandariasPy @ANRParaguay @AllianaPedro @Carmen2016A @LuisCastiglioni @zacariasirun @ANR_Redes★\\nMasivo apoyo a la Lista 1 en acto de cierre de campaña en Asunción https://t.co/ccekI502Ce  \n",
       "241                                                  @Maritoabdo con las mujeres guerreras de Paraguay #ParaguaySeMueve #MaritoDeLaGente .@CardinalAM .@News_CC .@rnpy920am .@ParaguayTVHD .@ParaguayTVHD .@780AM https://t.co/4pSlUoEgAW  \n",
       "1840                                                                                                                                                                        #ParaguaySeMueve con #MaritoDeLaGente https://t.co/Kk2C7G9xmf  "
      ]
     },
     "execution_count": 359,
     "metadata": {},
     "output_type": "execute_result"
    }
   ],
   "source": [
    "sample_df.head()"
   ]
  },
  {
   "cell_type": "markdown",
   "metadata": {},
   "source": [
    "### Exportar muestra"
   ]
  },
  {
   "cell_type": "code",
   "execution_count": 360,
   "metadata": {},
   "outputs": [],
   "source": [
    "if annotated_sample is None:\n",
    "    sample_df.to_csv('datasets/dataframes_generales/sample_generales.csv', index=False)\n",
    "else:\n",
    "    sample_df.to_csv('datasets/dataframes_generales/sample_generales_{}.csv'.format(sample_df.shape[0]), index=False)"
   ]
  }
 ],
 "metadata": {
  "kernelspec": {
   "display_name": "Python 3",
   "language": "python",
   "name": "python3"
  },
  "language_info": {
   "codemirror_mode": {
    "name": "ipython",
    "version": 3
   },
   "file_extension": ".py",
   "mimetype": "text/x-python",
   "name": "python",
   "nbconvert_exporter": "python",
   "pygments_lexer": "ipython3",
   "version": "3.6.0"
  }
 },
 "nbformat": 4,
 "nbformat_minor": 2
}
